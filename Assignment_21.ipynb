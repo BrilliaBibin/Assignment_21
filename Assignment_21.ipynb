{
 "cells": [
  {
   "cell_type": "raw",
   "id": "18f283d6-0316-4e46-a65c-25cc6099cd92",
   "metadata": {},
   "source": [
    "1. Add the current date to the text file today.txt as a string."
   ]
  },
  {
   "cell_type": "code",
   "execution_count": 19,
   "id": "62c4b616-8b59-4a0c-8726-eb3c065e9c25",
   "metadata": {},
   "outputs": [],
   "source": [
    "from datetime import date"
   ]
  },
  {
   "cell_type": "code",
   "execution_count": 20,
   "id": "d83b0691-9dcb-45fc-b5ce-1fd609a79d00",
   "metadata": {},
   "outputs": [],
   "source": [
    "now = date.today()"
   ]
  },
  {
   "cell_type": "code",
   "execution_count": 21,
   "id": "c88cf060-bbc8-41d9-8861-6abba02f359c",
   "metadata": {},
   "outputs": [],
   "source": [
    "now_str = now.isoformat()"
   ]
  },
  {
   "cell_type": "code",
   "execution_count": 22,
   "id": "da82a430-4b9c-4da9-bcc0-024d5382cc90",
   "metadata": {},
   "outputs": [],
   "source": [
    "with open('today', 'wt') as output:\n",
    "    print(now_str, file=output)"
   ]
  },
  {
   "cell_type": "raw",
   "id": "b948e55a-e5f5-415d-afc3-df897a3f6fff",
   "metadata": {},
   "source": [
    "2. Read the text file today.txt into the string today_string"
   ]
  },
  {
   "cell_type": "code",
   "execution_count": 23,
   "id": "e789d819-5d5f-4397-91a3-41f30732848a",
   "metadata": {},
   "outputs": [],
   "source": [
    "with open('today','rt') as input:\n",
    "    today_string = input.read()"
   ]
  },
  {
   "cell_type": "code",
   "execution_count": 24,
   "id": "74a19c9b-922e-4fac-88ca-c1be09d80b2f",
   "metadata": {},
   "outputs": [
    {
     "data": {
      "text/plain": [
       "'2023-03-07\\n'"
      ]
     },
     "execution_count": 24,
     "metadata": {},
     "output_type": "execute_result"
    }
   ],
   "source": [
    "today_string"
   ]
  },
  {
   "cell_type": "raw",
   "id": "d4b0e6e1-93ca-4388-8347-cfc7d7c81b52",
   "metadata": {},
   "source": [
    "3. Parse the date from today_string."
   ]
  },
  {
   "cell_type": "code",
   "execution_count": 32,
   "id": "dec8ea54-cb3c-4460-888a-6f71c4abf6db",
   "metadata": {},
   "outputs": [],
   "source": [
    "fmt = '%Y-%m-%d\\n'"
   ]
  },
  {
   "cell_type": "code",
   "execution_count": 38,
   "id": "67d78cd0-c5ee-442f-b5c1-99619be3309c",
   "metadata": {},
   "outputs": [
    {
     "data": {
      "text/plain": [
       "'2023-03-07'"
      ]
     },
     "execution_count": 38,
     "metadata": {},
     "output_type": "execute_result"
    }
   ],
   "source": [
    "datetime.strip(fmt)"
   ]
  },
  {
   "cell_type": "raw",
   "id": "aa44675f-b853-4d4d-8dbd-eca6cd61f5eb",
   "metadata": {},
   "source": [
    "4. List the files in your current directory"
   ]
  },
  {
   "cell_type": "code",
   "execution_count": 39,
   "id": "1e8101d2-20e0-4635-bc09-3d45ffe79199",
   "metadata": {},
   "outputs": [
    {
     "data": {
      "text/plain": [
       "['README.md',\n",
       " 'sample-code.ipynb',\n",
       " '.git',\n",
       " 'Untitled.ipynb',\n",
       " '.ipynb_checkpoints',\n",
       " 'today']"
      ]
     },
     "execution_count": 39,
     "metadata": {},
     "output_type": "execute_result"
    }
   ],
   "source": [
    "import os\n",
    "os.listdir('.')"
   ]
  },
  {
   "cell_type": "raw",
   "id": "66af2c69-ed63-40d3-84be-366cae1f5b56",
   "metadata": {},
   "source": [
    "5. Create a list of all of the files in your parent directory (minimum five files should be available)."
   ]
  },
  {
   "cell_type": "code",
   "execution_count": 40,
   "id": "6af9c27f-73a3-484c-82c2-25f6ebed96c7",
   "metadata": {},
   "outputs": [
    {
     "data": {
      "text/plain": [
       "['.profile',\n",
       " '.bash_logout',\n",
       " '.bashrc',\n",
       " '.ipython',\n",
       " '.cache',\n",
       " '.jupyter',\n",
       " '.local',\n",
       " '.conda',\n",
       " '.config',\n",
       " '.npm',\n",
       " '.wget-hsts',\n",
       " 'work']"
      ]
     },
     "execution_count": 40,
     "metadata": {},
     "output_type": "execute_result"
    }
   ],
   "source": [
    "import os\n",
    "os.listdir('..')"
   ]
  },
  {
   "cell_type": "raw",
   "id": "0bdac20b-0397-4cec-a0c8-466deaf91137",
   "metadata": {},
   "source": [
    "6. Use multiprocessing to create three separate processes. Make each one wait a random number of seconds between one and five, print the current time, and then exit."
   ]
  },
  {
   "cell_type": "code",
   "execution_count": null,
   "id": "0816be82-c9d3-4b33-9663-85bfec517cb9",
   "metadata": {},
   "outputs": [],
   "source": [
    "import multiprocessing\n",
    "def now(seconds):\n",
    "    from datetime import datetime\n",
    "    from time import sleep\n",
    "    sleep(seconds)\n",
    "    print('wait', seconds, 'seconds, time is', datetime.utcnow())\n",
    "    if __name__ == '__main__':\n",
    "        \n",
    "        \n",
    "import random\n",
    "for n in range(3):\n",
    "    seconds = random.random()\n",
    "    proc = multiprocessing.Process(target=now, args=(seconds,))\n",
    "    proc.start()"
   ]
  },
  {
   "cell_type": "raw",
   "id": "3a92517f-cade-4e5f-b345-fedd00eb1320",
   "metadata": {},
   "source": [
    "7. Create a date object of your day of birth."
   ]
  },
  {
   "cell_type": "code",
   "execution_count": 46,
   "id": "ad6df7f0-e8a6-4b79-b2a6-e73e4871e90c",
   "metadata": {},
   "outputs": [
    {
     "data": {
      "text/plain": [
       "datetime.date(1989, 10, 24)"
      ]
     },
     "execution_count": 46,
     "metadata": {},
     "output_type": "execute_result"
    }
   ],
   "source": [
    "my_day = date(1989, 10, 24)\n",
    "my_day"
   ]
  },
  {
   "cell_type": "raw",
   "id": "d8dec14d-752f-49da-87db-e6dfc0bf4575",
   "metadata": {},
   "source": [
    "8. What day of the week was your day of birth?"
   ]
  },
  {
   "cell_type": "code",
   "execution_count": 47,
   "id": "e7bc1e47-2312-4a88-a942-e50f5f0ef897",
   "metadata": {},
   "outputs": [
    {
     "data": {
      "text/plain": [
       "1"
      ]
     },
     "execution_count": 47,
     "metadata": {},
     "output_type": "execute_result"
    }
   ],
   "source": [
    "my_day.weekday()"
   ]
  },
  {
   "cell_type": "code",
   "execution_count": 48,
   "id": "39749623-e3c4-4be8-81f4-05c57069d0ee",
   "metadata": {},
   "outputs": [
    {
     "data": {
      "text/plain": [
       "2"
      ]
     },
     "execution_count": 48,
     "metadata": {},
     "output_type": "execute_result"
    }
   ],
   "source": [
    "my_day.isoweekday()"
   ]
  },
  {
   "cell_type": "code",
   "execution_count": null,
   "id": "a2a1f22b-1285-4647-ae6a-185af3ec1924",
   "metadata": {},
   "outputs": [],
   "source": [
    "With weekday(), Monday is 0 and Sunday is 6. With isoweekday(), Monday is 1 and\n",
    "Sunday is 7. Therefore, this date was a Tuesday."
   ]
  },
  {
   "cell_type": "raw",
   "id": "b35e5281-67b8-454e-9c5d-3b84fa6ed7f9",
   "metadata": {},
   "source": [
    "9. When will you be (or when were you) 10,000 days old?"
   ]
  },
  {
   "cell_type": "code",
   "execution_count": 49,
   "id": "c06d5864-46c4-45b5-b358-7c3e7cbe1532",
   "metadata": {},
   "outputs": [
    {
     "data": {
      "text/plain": [
       "datetime.date(2017, 3, 11)"
      ]
     },
     "execution_count": 49,
     "metadata": {},
     "output_type": "execute_result"
    }
   ],
   "source": [
    "from datetime import timedelta\n",
    "party_day = my_day + timedelta(days=10000)\n",
    "party_day"
   ]
  }
 ],
 "metadata": {
  "kernelspec": {
   "display_name": "Python 3 (ipykernel)",
   "language": "python",
   "name": "python3"
  },
  "language_info": {
   "codemirror_mode": {
    "name": "ipython",
    "version": 3
   },
   "file_extension": ".py",
   "mimetype": "text/x-python",
   "name": "python",
   "nbconvert_exporter": "python",
   "pygments_lexer": "ipython3",
   "version": "3.10.6"
  }
 },
 "nbformat": 4,
 "nbformat_minor": 5
}
